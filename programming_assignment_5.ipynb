{
 "cells": [
  {
   "cell_type": "code",
   "execution_count": 2,
   "metadata": {},
   "outputs": [
    {
     "name": "stdout",
     "output_type": "stream",
     "text": [
      "LCM of two given numbers is :  60\n"
     ]
    }
   ],
   "source": [
    "#Q - 1. Write a Python Program to Find LCM?\n",
    "#Answer:\n",
    "#For own understanding, LCM(least common multiple). fOR FINDING lcm OF 4 AND 6. Multiples of 4 = 4,8,12,16,20..., multiple of 6 = 6,12,18,24,30.... so leat common multiple in both will be 12\n",
    "def find_lcm(num1,num2):\n",
    "\n",
    "    max_num = max(num1,num2) #find the max. number and assign it to lcm\n",
    "    lcm = max_num\n",
    "    while True:\n",
    "        if lcm%num1 == 0 and lcm%num2 == 0 :\n",
    "            break\n",
    "        lcm+=max_num #else we will increase the number of max_num by 1 and the lop will continue till the above condition satisfies\n",
    "    return lcm\n",
    "\n",
    "num1 = int(input(\"Enter first number: \"))\n",
    "num2 = int(input(\"Enter second number: \"))\n",
    "lcm = find_lcm(num1,num2)\n",
    "print(\"LCM of two given numbers is : \", lcm)\n"
   ]
  },
  {
   "cell_type": "code",
   "execution_count": 4,
   "metadata": {},
   "outputs": [
    {
     "name": "stdout",
     "output_type": "stream",
     "text": [
      "The HCF of two given numbers is:  4\n"
     ]
    }
   ],
   "source": [
    "#Q - 2. Write a Python Program to Find HCF?(Highest common factor)\n",
    "#Answer:\n",
    "#HCF of 8 and 12 will be 4 as it's the largest number that can divide both 8 and 12\n",
    "def calculate_hcf(num1,num2):\n",
    "    min_num = min(num1,num2)\n",
    "\n",
    "    hcf = 1 #let's initialize the hcf to 1 in beginning\n",
    "    for i in range(1,min_num+1):\n",
    "        if num1%i==0 and num2%i==0:\n",
    "            hcf = i\n",
    "    return hcf\n",
    "\n",
    "num1 = int(input(\"Enter first number: \"))\n",
    "num2 = int(input(\"Enter second number: \"))\n",
    "\n",
    "print(\"The HCF of two given numbers is: \",calculate_hcf(num1,num2) )\n"
   ]
  },
  {
   "cell_type": "code",
   "execution_count": 11,
   "metadata": {},
   "outputs": [
    {
     "name": "stdout",
     "output_type": "stream",
     "text": [
      "binary, octal and hexadecimal number for given decimal number will be resp.: \n",
      " 0b1110001100 \n",
      " 0o1614 \n",
      " 0x38c\n"
     ]
    }
   ],
   "source": [
    "#Q - 3. Write a Python Program to Convert Decimal to Binary, Octal and Hexadecimal?\n",
    "#Answer:\n",
    "decimal_number = int(input(\"Pls enter a decimal number: \"))\n",
    "binary_num = bin(decimal_number)\n",
    "octal_num = oct(decimal_number)\n",
    "hexadecimal_num = hex(decimal_number)\n",
    "print(\"binary, octal and hexadecimal number for given decimal number will be resp.: \\n\",binary_num,\"\\n\",octal_num,\"\\n\", hexadecimal_num)"
   ]
  },
  {
   "cell_type": "code",
   "execution_count": 15,
   "metadata": {},
   "outputs": [
    {
     "name": "stdout",
     "output_type": "stream",
     "text": [
      "The ASCII value of character H  is:  72\n"
     ]
    }
   ],
   "source": [
    "#Q - 4. Write a Python Program To Find ASCII value of a character?\n",
    "#Answer:\n",
    "chr_given = input(\"Enter a character: \")\n",
    "ascii_value = ord(chr_given)\n",
    "print(\"The ASCII value of character\",chr_given, \" is: \", ascii_value)"
   ]
  },
  {
   "cell_type": "code",
   "execution_count": 8,
   "metadata": {},
   "outputs": [
    {
     "name": "stdout",
     "output_type": "stream",
     "text": [
      "Select Operation: \n",
      "1. addition\n",
      "2. substraction\n",
      "3. multiplication\n",
      "4. division\n",
      "Result is:  10\n"
     ]
    }
   ],
   "source": [
    "#Q - 5. Write a Python Program to Make a Simple Calculator with 4 basic mathematical operations?\n",
    "#Answer: addition, substraction, multiplication, division\n",
    "\n",
    "def add(a, b):\n",
    "    return a + b\n",
    "\n",
    "def subtract(a, b):\n",
    "    return a - b\n",
    "\n",
    "def multiply(a, b):\n",
    "    return a * b\n",
    "\n",
    "def division(a, b):\n",
    "    if b == 0:\n",
    "        return \"Error: Cannot divide by zero\"\n",
    "    else:\n",
    "        return a / b\n",
    "\n",
    "print(\"Select Operation: \")\n",
    "print(\"1. addition\")\n",
    "print(\"2. substraction\")\n",
    "print(\"3. multiplication\")\n",
    "print(\"4. division\")\n",
    "\n",
    "choice = input(\"Enter choice between(1-4: \")\n",
    "\n",
    "num1 = int(input(\"Pls enter first number: \"))\n",
    "num2 = int(input(\"pls enter second number: \"))\n",
    "\n",
    "result = 0 #bydefault setting result value to 0\n",
    "\n",
    "if choice == '1':\n",
    "    result = add(num1, num2)\n",
    "elif choice == '2':\n",
    "    result = subtract(num1, num2)\n",
    "elif choice == '3':\n",
    "    result = multiply(num1, num2)\n",
    "elif choice == '4':\n",
    "    result = division(num1, num2)\n",
    "else:\n",
    "    print(\"Invalid choice\")\n",
    "\n",
    "print(\"Result is: \", result)"
   ]
  },
  {
   "cell_type": "code",
   "execution_count": null,
   "metadata": {},
   "outputs": [],
   "source": []
  }
 ],
 "metadata": {
  "kernelspec": {
   "display_name": "Python 3.9.6 64-bit",
   "language": "python",
   "name": "python3"
  },
  "language_info": {
   "codemirror_mode": {
    "name": "ipython",
    "version": 3
   },
   "file_extension": ".py",
   "mimetype": "text/x-python",
   "name": "python",
   "nbconvert_exporter": "python",
   "pygments_lexer": "ipython3",
   "version": "3.9.6"
  },
  "orig_nbformat": 4,
  "vscode": {
   "interpreter": {
    "hash": "31f2aee4e71d21fbe5cf8b01ff0e069b9275f58929596ceb00d14d90e3e16cd6"
   }
  }
 },
 "nbformat": 4,
 "nbformat_minor": 2
}
